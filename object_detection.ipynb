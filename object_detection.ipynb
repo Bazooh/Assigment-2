{
 "cells": [
  {
   "cell_type": "code",
   "execution_count": 2,
   "metadata": {},
   "outputs": [
    {
     "name": "stdout",
     "output_type": "stream",
     "text": [
      "Overwriting ObjectDetection-FasterRCNN/data_configs/faster_rcnn.yaml\n"
     ]
    }
   ],
   "source": [
    "%%writefile ObjectDetection-FasterRCNN/data_configs/faster_rcnn.yaml\n",
    "# Images and labels direcotry should be relative to train.py\n",
    "TRAIN_DIR_IMAGES: '../data/Object_Detection/pascal/train'\n",
    "TRAIN_DIR_LABELS: '../data/Object_Detection/pascal/train'\n",
    "VALID_DIR_IMAGES: '../data/Object_Detection/pascal/valid'\n",
    "VALID_DIR_LABELS: '../data/Object_Detection/pascal/valid'\n",
    "\n",
    "# Class names.\n",
    "CLASSES: [\n",
    "    '__background__',\n",
    "    'Cell',\n",
    "    'Cell-Multi',\n",
    "    'No-Anomaly',\n",
    "    'Shadowing',\n",
    "    'Unclassified',\n",
    "]\n",
    "\n",
    "# Number of classes (object classes + 1 for background class in Faster RCNN).\n",
    "NC: 6\n",
    "\n",
    "# Whether to save the predictions of the validation set while training.\n",
    "SAVE_VALID_PREDICTION_IMAGES: True"
   ]
  },
  {
   "cell_type": "code",
   "execution_count": 3,
   "metadata": {},
   "outputs": [
    {
     "name": "stdout",
     "output_type": "stream",
     "text": [
      "W&B disabled.\n"
     ]
    }
   ],
   "source": [
    "!wandb disabled"
   ]
  },
  {
   "cell_type": "code",
   "execution_count": 19,
   "metadata": {},
   "outputs": [
    {
     "name": "stdout",
     "output_type": "stream",
     "text": [
      "Not using distributed mode\n",
      "device cpu\n",
      "Creating data loaders\n",
      "Number of training samples: 1167\n",
      "Number of validation samples: 250\n",
      "\n",
      "Building model from scratch...\n",
      "====================================================================================================\n",
      "Layer (type:depth-idx)                             Output Shape              Param #\n",
      "====================================================================================================\n",
      "FasterRCNN                                         [100, 4]                  --\n",
      "├─GeneralizedRCNNTransform: 1-1                    [4, 3, 800, 800]          --\n",
      "├─BackboneWithFPN: 1-2                             [4, 256, 13, 13]          --\n",
      "│    └─IntermediateLayerGetter: 2-1                [4, 2048, 25, 25]         --\n",
      "│    │    └─Conv2d: 3-1                            [4, 64, 400, 400]         (9,408)\n",
      "│    │    └─BatchNorm2d: 3-2                       [4, 64, 400, 400]         (128)\n",
      "│    │    └─ReLU: 3-3                              [4, 64, 400, 400]         --\n",
      "│    │    └─MaxPool2d: 3-4                         [4, 64, 200, 200]         --\n",
      "│    │    └─Sequential: 3-5                        [4, 256, 200, 200]        (215,808)\n",
      "│    │    └─Sequential: 3-6                        [4, 512, 100, 100]        1,219,584\n",
      "│    │    └─Sequential: 3-7                        [4, 1024, 50, 50]         7,098,368\n",
      "│    │    └─Sequential: 3-8                        [4, 2048, 25, 25]         14,964,736\n",
      "│    └─FeaturePyramidNetwork: 2-2                  [4, 256, 13, 13]          --\n",
      "│    │    └─ModuleList: 3-15                       --                        (recursive)\n",
      "│    │    └─ModuleList: 3-16                       --                        (recursive)\n",
      "│    │    └─ModuleList: 3-15                       --                        (recursive)\n",
      "│    │    └─ModuleList: 3-16                       --                        (recursive)\n",
      "│    │    └─ModuleList: 3-15                       --                        (recursive)\n",
      "│    │    └─ModuleList: 3-16                       --                        (recursive)\n",
      "│    │    └─ModuleList: 3-15                       --                        (recursive)\n",
      "│    │    └─ModuleList: 3-16                       --                        (recursive)\n",
      "│    │    └─LastLevelMaxPool: 3-17                 [4, 256, 200, 200]        --\n",
      "├─RegionProposalNetwork: 1-3                       [1000, 4]                 --\n",
      "│    └─RPNHead: 2-3                                [4, 3, 200, 200]          --\n",
      "│    │    └─Sequential: 3-18                       [4, 256, 200, 200]        1,180,160\n",
      "│    │    └─Conv2d: 3-19                           [4, 3, 200, 200]          771\n",
      "│    │    └─Conv2d: 3-20                           [4, 12, 200, 200]         3,084\n",
      "│    │    └─Sequential: 3-21                       [4, 256, 100, 100]        (recursive)\n",
      "│    │    └─Conv2d: 3-22                           [4, 3, 100, 100]          (recursive)\n",
      "│    │    └─Conv2d: 3-23                           [4, 12, 100, 100]         (recursive)\n",
      "│    │    └─Sequential: 3-24                       [4, 256, 50, 50]          (recursive)\n",
      "│    │    └─Conv2d: 3-25                           [4, 3, 50, 50]            (recursive)\n",
      "│    │    └─Conv2d: 3-26                           [4, 12, 50, 50]           (recursive)\n",
      "│    │    └─Sequential: 3-27                       [4, 256, 25, 25]          (recursive)\n",
      "│    │    └─Conv2d: 3-28                           [4, 3, 25, 25]            (recursive)\n",
      "│    │    └─Conv2d: 3-29                           [4, 12, 25, 25]           (recursive)\n",
      "│    │    └─Sequential: 3-30                       [4, 256, 13, 13]          (recursive)\n",
      "│    │    └─Conv2d: 3-31                           [4, 3, 13, 13]            (recursive)\n",
      "│    │    └─Conv2d: 3-32                           [4, 12, 13, 13]           (recursive)\n",
      "│    └─AnchorGenerator: 2-4                        [159882, 4]               --\n",
      "├─RoIHeads: 1-4                                    [100, 4]                  --\n",
      "│    └─MultiScaleRoIAlign: 2-5                     [4000, 256, 7, 7]         --\n",
      "│    └─FastRCNNConvFCHead: 2-6                     [4000, 1024]              --\n",
      "│    │    └─Conv2dNormActivation: 3-33             [4000, 256, 7, 7]         590,336\n",
      "│    │    └─Conv2dNormActivation: 3-34             [4000, 256, 7, 7]         590,336\n",
      "│    │    └─Conv2dNormActivation: 3-35             [4000, 256, 7, 7]         590,336\n",
      "│    │    └─Conv2dNormActivation: 3-36             [4000, 256, 7, 7]         590,336\n",
      "│    │    └─Flatten: 3-37                          [4000, 12544]             --\n",
      "│    │    └─Linear: 3-38                           [4000, 1024]              12,846,080\n",
      "│    │    └─ReLU: 3-39                             [4000, 1024]              --\n",
      "│    └─FastRCNNPredictor: 2-7                      [4000, 6]                 --\n",
      "│    │    └─Linear: 3-40                           [4000, 6]                 6,150\n",
      "│    │    └─Linear: 3-41                           [4000, 24]                24,600\n",
      "====================================================================================================\n",
      "Total params: 43,276,653\n",
      "Trainable params: 43,051,309\n",
      "Non-trainable params: 225,344\n",
      "Total mult-adds (T): 1.12\n",
      "====================================================================================================\n",
      "Input size (MB): 19.66\n",
      "Forward/backward pass size (MB): 14957.18\n",
      "Params size (MB): 173.11\n",
      "Estimated Total Size (MB): 15149.95\n",
      "====================================================================================================\n",
      "43,276,653 total parameters.\n",
      "43,051,309 training parameters.\n",
      "/opt/homebrew/lib/python3.10/site-packages/torch/amp/autocast_mode.py:198: UserWarning: User provided device_type of 'cuda', but CUDA is not available. Disabling\n",
      "  warnings.warn('User provided device_type of \\'cuda\\', but CUDA is not available. Disabling')\n",
      "Epoch: [0]  [  0/292]  eta: 5:38:39  lr: 0.000004  loss: 4.7534 (4.7534)  loss_classifier: 1.9024 (1.9024)  loss_box_reg: 0.0687 (0.0687)  loss_objectness: 2.5784 (2.5784)  loss_rpn_box_reg: 0.2040 (0.2040)  time: 69.5866  data: 3.4832\n",
      "Removed invalid box tensor([0, 1, 1, 1]) of 3 from image index 878\n",
      "^C\n"
     ]
    }
   ],
   "source": [
    "!python3.10 ObjectDetection-FasterRCNN/train.py \\\n",
    "    --config ObjectDetection-FasterRCNN/data_configs/faster_rcnn.yaml \\\n",
    "    --epochs 25 \\\n",
    "    --model fasterrcnn_resnet50_fpn_v2 \\\n",
    "    --project-name faster_rcnn \\\n",
    "    --batch-size 4 \\\n",
    "    --no-mosaic"
   ]
  }
 ],
 "metadata": {
  "kernelspec": {
   "display_name": "Python 3",
   "language": "python",
   "name": "python3"
  },
  "language_info": {
   "codemirror_mode": {
    "name": "ipython",
    "version": 3
   },
   "file_extension": ".py",
   "mimetype": "text/x-python",
   "name": "python",
   "nbconvert_exporter": "python",
   "pygments_lexer": "ipython3",
   "version": "3.10.14"
  }
 },
 "nbformat": 4,
 "nbformat_minor": 2
}
